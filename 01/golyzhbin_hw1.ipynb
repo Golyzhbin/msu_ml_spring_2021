{
  "nbformat": 4,
  "nbformat_minor": 0,
  "metadata": {
    "kernelspec": {
      "display_name": "Python 3",
      "language": "python",
      "name": "python3"
    },
    "colab": {
      "name": "golyzhbin_hw1.ipynb",
      "provenance": [],
      "collapsed_sections": [],
      "toc_visible": true
    }
  },
  "cells": [
    {
      "cell_type": "markdown",
      "metadata": {
        "id": "m9fQ950mBsl9"
      },
      "source": [
        "**Общая информация**\n",
        "\n",
        "**Срок сдачи:** 29 марта 2021, 08:30 \n",
        "\n",
        "**Штраф за опоздание:** по 1 баллу за 24 часа задержки. Через 5 дней домашнее задание сгорает.\n",
        "\n",
        "При отправлении ДЗ указывайте фамилию в названии файла\n",
        "Присылать ДЗ необходимо в виде ссылки на свой github репозиторий на почту ml1.sphere@mail.ru с указанием темы в следующем формате:\n",
        "\n",
        "[ML0220, Задание 1] Фамилия Имя.\n",
        "\n",
        "Используйте данный Ipython Notebook при оформлении домашнего задания."
      ]
    },
    {
      "cell_type": "markdown",
      "metadata": {
        "id": "Ywoeo8sqBsmM"
      },
      "source": [
        "\n",
        "**Штрафные баллы:**\n",
        "\n",
        "1. Отсутствие фамилии в имени скрипта (скрипт должен называться по аналогии со stroykova_hw1.ipynb) -0.5 баллов\n",
        "2. Все строчки должны быть выполнены. Нужно, чтобы output команды можно было увидеть уже в git'е. В противном случае -0.5 баллов\n"
      ]
    },
    {
      "cell_type": "code",
      "metadata": {
        "id": "EbKyfBDsBsmO"
      },
      "source": [
        "import numpy as np\n",
        "import matplotlib.pyplot as plt\n",
        "import scipy\n",
        "\n",
        "import seaborn as sns\n",
        "from sklearn import datasets\n",
        "from sklearn.base import BaseEstimator\n",
        "from sklearn.neighbors import KDTree\n",
        "from sklearn.datasets import fetch_20newsgroups\n",
        "from sklearn.feature_extraction.text import CountVectorizer\n",
        "from sklearn.feature_extraction.text import TfidfVectorizer\n",
        "\n",
        "from sklearn.model_selection import train_test_split\n",
        "from sklearn.neighbors import KNeighborsClassifier\n",
        "from sklearn.metrics import accuracy_score\n",
        "from sklearn.model_selection import cross_val_score\n",
        "from sklearn.model_selection import KFold"
      ],
      "execution_count": 25,
      "outputs": []
    },
    {
      "cell_type": "markdown",
      "metadata": {
        "id": "WqYmeioVBsmQ"
      },
      "source": [
        "##### Задание 1 (1 балл)\n",
        "Реализовать KNN в классе MyKNeighborsClassifier (обязательное условие: точность не ниже sklearn реализации)\n",
        "Разберитесь самостоятельно, какая мера расстояния используется в KNeighborsClassifier дефолтно и реализуйте свой алгоритм именно с этой мерой. \n",
        "Для подсчета расстояний можно использовать функции [отсюда](https://docs.scipy.org/doc/scipy/reference/spatial.distance.html)"
      ]
    },
    {
      "cell_type": "code",
      "metadata": {
        "id": "6TDLf8AHBsmQ"
      },
      "source": [
        "class MyKNeighborsClassifier(BaseEstimator):\n",
        "    def __init__(self, n_neighbors, algorithm='brute', metric='euclidean'):\n",
        "        self.n_neighbors = n_neighbors\n",
        "        self.algorithm = algorithm\n",
        "        self.metric = metric\n",
        "\n",
        "    def fit(self, X, y):\n",
        "        self.X = X\n",
        "        self.y = y\n",
        "\n",
        "    def predict(self, X):\n",
        "        n = len(X)\n",
        "        m = len(self.X)\n",
        "        kn = self.n_neighbors\n",
        "        if (self.algorithm == 'brute'):\n",
        "            A = scipy.spatial.distance.cdist(X, self.X, metric=self.metric)\n",
        "            A = np.argpartition(A, kn, axis=1)[:, :kn]\n",
        "            y = (self.y[A])\n",
        "            res = np.zeros(n, dtype='int')\n",
        "            for i in range(n):\n",
        "                res[i] = np.argmax(np.bincount(y[i]))\n",
        "            return res\n",
        "        else:\n",
        "            tree = KDTree(self.X)\n",
        "            dist, ind = tree.query(X[:], k=kn)\n",
        "            A = self.y[ind]\n",
        "            res = np.zeros(n, dtype='int')\n",
        "            for i in range(n):\n",
        "                res[i] = np.argmax(np.bincount(A[i]))\n",
        "            return res"
      ],
      "execution_count": 26,
      "outputs": []
    },
    {
      "cell_type": "markdown",
      "metadata": {
        "id": "5gM5LVDyBsmR"
      },
      "source": [
        "**IRIS**\n",
        "\n",
        "В библиотеке scikit-learn есть несколько датасетов из коробки. Один из них [Ирисы Фишера](https://ru.wikipedia.org/wiki/%D0%98%D1%80%D0%B8%D1%81%D1%8B_%D0%A4%D0%B8%D1%88%D0%B5%D1%80%D0%B0)"
      ]
    },
    {
      "cell_type": "code",
      "metadata": {
        "id": "XneqHguOBsmS"
      },
      "source": [
        "iris = datasets.load_iris()"
      ],
      "execution_count": 27,
      "outputs": []
    },
    {
      "cell_type": "code",
      "metadata": {
        "id": "Xp7a3qs1BsmS"
      },
      "source": [
        "X_train, X_test, y_train, y_test = train_test_split(iris.data, iris.target, test_size=0.1, stratify=iris.target)"
      ],
      "execution_count": 28,
      "outputs": []
    },
    {
      "cell_type": "code",
      "metadata": {
        "id": "6y0csb_RBsmT"
      },
      "source": [
        "clf = KNeighborsClassifier(n_neighbors=2, algorithm='brute')\n",
        "my_clf = MyKNeighborsClassifier(n_neighbors=2, algorithm='brute')"
      ],
      "execution_count": 29,
      "outputs": []
    },
    {
      "cell_type": "code",
      "metadata": {
        "id": "2Co6BkZ1BsmU"
      },
      "source": [
        "clf.fit(X_train, y_train)\n",
        "my_clf.fit(X_train, y_train)"
      ],
      "execution_count": 30,
      "outputs": []
    },
    {
      "cell_type": "code",
      "metadata": {
        "id": "8khin-4-BsmU"
      },
      "source": [
        "sklearn_pred = clf.predict(X_test)\n",
        "my_clf_pred = my_clf.predict(X_test)\n",
        "assert abs( accuracy_score(y_test, my_clf_pred) -  accuracy_score(y_test, sklearn_pred ) )<0.005, \"Score must be simillar\""
      ],
      "execution_count": 31,
      "outputs": []
    },
    {
      "cell_type": "markdown",
      "metadata": {
        "id": "lvk8vSKdBsmV"
      },
      "source": [
        "**Задание 2 (0.5 балла)**\n",
        "\n",
        "Давайте попробуем добиться скорости работы на fit, predict сравнимой со sklearn для iris. Допускается замедление не более чем в 2 раза. \n",
        "Для этого используем numpy. "
      ]
    },
    {
      "cell_type": "code",
      "metadata": {
        "colab": {
          "base_uri": "https://localhost:8080/"
        },
        "id": "EddVyyNNBsmW",
        "outputId": "3bd62cd6-edc3-4f8a-dc53-c17b94f02730"
      },
      "source": [
        "%time clf.fit(X_train, y_train)"
      ],
      "execution_count": 32,
      "outputs": [
        {
          "output_type": "stream",
          "text": [
            "CPU times: user 530 µs, sys: 134 µs, total: 664 µs\n",
            "Wall time: 677 µs\n"
          ],
          "name": "stdout"
        },
        {
          "output_type": "execute_result",
          "data": {
            "text/plain": [
              "KNeighborsClassifier(algorithm='brute', leaf_size=30, metric='minkowski',\n",
              "                     metric_params=None, n_jobs=None, n_neighbors=2, p=2,\n",
              "                     weights='uniform')"
            ]
          },
          "metadata": {
            "tags": []
          },
          "execution_count": 32
        }
      ]
    },
    {
      "cell_type": "code",
      "metadata": {
        "colab": {
          "base_uri": "https://localhost:8080/"
        },
        "id": "nk3v-07gBsmY",
        "outputId": "a76d3495-eb1e-435f-e827-78df3be6f83f"
      },
      "source": [
        "%time my_clf.fit(X_train, y_train)"
      ],
      "execution_count": 33,
      "outputs": [
        {
          "output_type": "stream",
          "text": [
            "CPU times: user 9 µs, sys: 0 ns, total: 9 µs\n",
            "Wall time: 13.4 µs\n"
          ],
          "name": "stdout"
        }
      ]
    },
    {
      "cell_type": "code",
      "metadata": {
        "colab": {
          "base_uri": "https://localhost:8080/"
        },
        "id": "6NdyNqcXBsmZ",
        "outputId": "8c2253ad-5be4-4937-ccd7-893575b0135d"
      },
      "source": [
        "%time clf.predict(X_test)"
      ],
      "execution_count": 34,
      "outputs": [
        {
          "output_type": "stream",
          "text": [
            "CPU times: user 2.26 ms, sys: 0 ns, total: 2.26 ms\n",
            "Wall time: 2.56 ms\n"
          ],
          "name": "stdout"
        },
        {
          "output_type": "execute_result",
          "data": {
            "text/plain": [
              "array([0, 2, 2, 2, 0, 1, 0, 1, 2, 1, 1, 1, 0, 2, 0])"
            ]
          },
          "metadata": {
            "tags": []
          },
          "execution_count": 34
        }
      ]
    },
    {
      "cell_type": "code",
      "metadata": {
        "colab": {
          "base_uri": "https://localhost:8080/"
        },
        "id": "A22z2zPeBsma",
        "outputId": "bccb3b54-34cf-40d8-8130-51c664ce371e"
      },
      "source": [
        "%time my_clf.predict(X_test)"
      ],
      "execution_count": 35,
      "outputs": [
        {
          "output_type": "stream",
          "text": [
            "CPU times: user 426 µs, sys: 0 ns, total: 426 µs\n",
            "Wall time: 433 µs\n"
          ],
          "name": "stdout"
        },
        {
          "output_type": "execute_result",
          "data": {
            "text/plain": [
              "array([0, 2, 2, 2, 0, 1, 0, 1, 2, 1, 1, 1, 0, 2, 0])"
            ]
          },
          "metadata": {
            "tags": []
          },
          "execution_count": 35
        }
      ]
    },
    {
      "cell_type": "markdown",
      "metadata": {
        "id": "Dteue8xZBsma"
      },
      "source": [
        "###### Задание 3 (1 балл)\n",
        "Добавьте algorithm='kd_tree' в реализацию KNN (использовать KDTree из sklearn.neighbors). Необходимо добиться скорости работы на fit,  predict сравнимой со sklearn для iris. Допускается замедление не более чем в 2 раза. \n",
        "Для этого используем numpy. Точность не должна уступать значению KNN из sklearn. "
      ]
    },
    {
      "cell_type": "code",
      "metadata": {
        "id": "OLFMlWjTBsmb"
      },
      "source": [
        "clf = KNeighborsClassifier(n_neighbors=2, algorithm='kd_tree')\n",
        "my_clf = MyKNeighborsClassifier(n_neighbors=2, algorithm='kd_tree')"
      ],
      "execution_count": 36,
      "outputs": []
    },
    {
      "cell_type": "code",
      "metadata": {
        "id": "2J9Gs5blBsmb"
      },
      "source": [
        "X_train, X_test, y_train, y_test = train_test_split(iris.data, iris.target, test_size=0.1, stratify=iris.target)"
      ],
      "execution_count": 37,
      "outputs": []
    },
    {
      "cell_type": "code",
      "metadata": {
        "colab": {
          "base_uri": "https://localhost:8080/"
        },
        "id": "rgoSazhkBsmd",
        "outputId": "8ef1fa31-fc5c-467e-da6b-6fd29cddaea3"
      },
      "source": [
        "%time clf.fit(X_train, y_train)"
      ],
      "execution_count": 38,
      "outputs": [
        {
          "output_type": "stream",
          "text": [
            "CPU times: user 1.01 ms, sys: 2 µs, total: 1.01 ms\n",
            "Wall time: 1.02 ms\n"
          ],
          "name": "stdout"
        },
        {
          "output_type": "execute_result",
          "data": {
            "text/plain": [
              "KNeighborsClassifier(algorithm='kd_tree', leaf_size=30, metric='minkowski',\n",
              "                     metric_params=None, n_jobs=None, n_neighbors=2, p=2,\n",
              "                     weights='uniform')"
            ]
          },
          "metadata": {
            "tags": []
          },
          "execution_count": 38
        }
      ]
    },
    {
      "cell_type": "code",
      "metadata": {
        "colab": {
          "base_uri": "https://localhost:8080/"
        },
        "id": "BaxGOf-TBsmd",
        "outputId": "3dd8a18c-a7d6-42bf-ab6a-ad60299c4232"
      },
      "source": [
        "%time my_clf.fit(X_train, y_train)"
      ],
      "execution_count": 39,
      "outputs": [
        {
          "output_type": "stream",
          "text": [
            "CPU times: user 6 µs, sys: 1 µs, total: 7 µs\n",
            "Wall time: 11.7 µs\n"
          ],
          "name": "stdout"
        }
      ]
    },
    {
      "cell_type": "code",
      "metadata": {
        "colab": {
          "base_uri": "https://localhost:8080/"
        },
        "id": "k-mIMQQuBsme",
        "outputId": "b160dba5-ad42-4cd6-b49b-8181f9045ee6"
      },
      "source": [
        "%time clf.predict(X_test)"
      ],
      "execution_count": 40,
      "outputs": [
        {
          "output_type": "stream",
          "text": [
            "CPU times: user 3.64 ms, sys: 2.9 ms, total: 6.54 ms\n",
            "Wall time: 7.62 ms\n"
          ],
          "name": "stdout"
        },
        {
          "output_type": "execute_result",
          "data": {
            "text/plain": [
              "array([2, 1, 0, 0, 2, 1, 1, 0, 1, 2, 2, 0, 0, 1, 1])"
            ]
          },
          "metadata": {
            "tags": []
          },
          "execution_count": 40
        }
      ]
    },
    {
      "cell_type": "code",
      "metadata": {
        "colab": {
          "base_uri": "https://localhost:8080/"
        },
        "id": "Of2S57GKBsmf",
        "outputId": "76bbe383-ed13-41e7-e1ab-8d8374aab159"
      },
      "source": [
        "%time my_clf.predict(X_test)"
      ],
      "execution_count": 41,
      "outputs": [
        {
          "output_type": "stream",
          "text": [
            "CPU times: user 2.52 ms, sys: 1.13 ms, total: 3.66 ms\n",
            "Wall time: 7.32 ms\n"
          ],
          "name": "stdout"
        },
        {
          "output_type": "execute_result",
          "data": {
            "text/plain": [
              "array([2, 1, 0, 0, 2, 1, 1, 0, 1, 2, 2, 0, 0, 1, 1])"
            ]
          },
          "metadata": {
            "tags": []
          },
          "execution_count": 41
        }
      ]
    },
    {
      "cell_type": "code",
      "metadata": {
        "id": "93OWlIxkBsmf"
      },
      "source": [
        "sklearn_pred = clf.predict(X_test)\n",
        "my_clf_pred = my_clf.predict(X_test)\n",
        "assert abs( accuracy_score(y_test, my_clf_pred) -  accuracy_score(y_test, sklearn_pred ) )<0.005, \"Score must be simillar\""
      ],
      "execution_count": 42,
      "outputs": []
    },
    {
      "cell_type": "markdown",
      "metadata": {
        "id": "8VTtosI-Bsmg"
      },
      "source": [
        "**Задание 4 (2.5 балла)**\n",
        "\n",
        "Рассмотрим новый датасет 20 newsgroups"
      ]
    },
    {
      "cell_type": "code",
      "metadata": {
        "id": "MFxLlqmeBsmg"
      },
      "source": [
        "newsgroups = fetch_20newsgroups(subset='train',remove=['headers','footers', 'quotes'])"
      ],
      "execution_count": 43,
      "outputs": []
    },
    {
      "cell_type": "code",
      "metadata": {
        "id": "sMfUmgwOBsmg"
      },
      "source": [
        "data = newsgroups['data']\n",
        "target = newsgroups['target']"
      ],
      "execution_count": 44,
      "outputs": []
    },
    {
      "cell_type": "markdown",
      "metadata": {
        "id": "Z1y18uzYBsmh"
      },
      "source": [
        "Преобразуйте текстовые данные из data с помощью [CountVectorizer](https://scikit-learn.org/stable/modules/generated/sklearn.feature_extraction.text.CountVectorizer.html). Словарь можно ограничить по частотности."
      ]
    },
    {
      "cell_type": "code",
      "metadata": {
        "id": "A6PYE5DHBsmh"
      },
      "source": [
        "vectorizer = TfidfVectorizer(max_df=0.02, max_features=1000)\n",
        "X = vectorizer.fit_transform(data)\n",
        "X = X.toarray()"
      ],
      "execution_count": 45,
      "outputs": []
    },
    {
      "cell_type": "markdown",
      "metadata": {
        "id": "NU9kgoNiBsmh"
      },
      "source": [
        "*Так мы получили векторное представление наших текстов. Значит можно приступать к задаче обучения модели*"
      ]
    },
    {
      "cell_type": "markdown",
      "metadata": {
        "id": "8EuQPaFjBsmi"
      },
      "source": [
        "Реализуйте разбиение выборки для кросс-валидации на 3 фолдах. Разрешено использовать sklearn.cross_validation"
      ]
    },
    {
      "cell_type": "code",
      "metadata": {
        "id": "vFPxMxMqBsmi"
      },
      "source": [
        "kfold = KFold(3)\n",
        "for train_index, test_index in kfold.split(X, target):\n",
        "    X_train, X_test = X[train_index], X[test_index]\n",
        "    y_train, y_test = target[train_index], target[test_index]"
      ],
      "execution_count": 46,
      "outputs": []
    },
    {
      "cell_type": "code",
      "metadata": {
        "colab": {
          "base_uri": "https://localhost:8080/"
        },
        "id": "nZPuMHfjBsmi",
        "outputId": "4a873861-1e1d-4282-d5db-31b41b89cd13"
      },
      "source": [
        "!pip install tqdm\n",
        "from tqdm import tqdm"
      ],
      "execution_count": 47,
      "outputs": [
        {
          "output_type": "stream",
          "text": [
            "Requirement already satisfied: tqdm in /usr/local/lib/python3.7/dist-packages (4.41.1)\n"
          ],
          "name": "stdout"
        }
      ]
    },
    {
      "cell_type": "markdown",
      "metadata": {
        "id": "02H1d_uFBsmj"
      },
      "source": [
        "Напишите метод, позволяющий найти оптимальное количество ближайших соседей(дающее максимальную точность в среднем на валидации на 3 фолдах).\n",
        "Постройте график зависимости средней точности от количества соседей. Можно рассмотреть число соседей от 1 до 10."
      ]
    },
    {
      "cell_type": "code",
      "metadata": {
        "id": "o24W_N0DOYCC"
      },
      "source": [
        ""
      ],
      "execution_count": null,
      "outputs": []
    },
    {
      "cell_type": "code",
      "metadata": {
        "scrolled": true,
        "colab": {
          "base_uri": "https://localhost:8080/",
          "height": 843
        },
        "id": "jwZ_Z4niBsmj",
        "outputId": "70b2fa29-aff3-49f4-c35c-2ac391bb97a3"
      },
      "source": [
        "mas = np.zeros(30)\n",
        "\n",
        "\n",
        "def bestaccuracy(MAX, X, target):\n",
        "    global mas\n",
        "    res = -1\n",
        "    percent = 0\n",
        "    kfold = KFold(3)\n",
        "    for i in tqdm(range(1, MAX+1)):\n",
        "        check = 0\n",
        "        for train_index, test_index in kfold.split(X, target):\n",
        "            knn = MyKNeighborsClassifier(n_neighbors=i, algorithm='brute', metric='cosine')\n",
        "            knn.fit(X[train_index], target[train_index])\n",
        "            check += accuracy_score(knn.predict(X[test_index]), target[test_index])\n",
        "        check /= 3\n",
        "        mas[i-1] = check\n",
        "        if (check > percent):\n",
        "            percent = check\n",
        "            res = i\n",
        "    return res, percent\n",
        "\n",
        "print(bestaccuracy(30, X, target))\n",
        "plt.plot(np.arange(1, 31), mas[0:30])"
      ],
      "execution_count": 52,
      "outputs": [
        {
          "output_type": "stream",
          "text": [
            "\n",
            "  0%|          | 0/30 [00:00<?, ?it/s]\u001b[A\n",
            "  3%|▎         | 1/30 [01:28<42:38, 88.21s/it]\u001b[A\n",
            "  7%|▋         | 2/30 [02:56<41:10, 88.24s/it]\u001b[A\n",
            " 10%|█         | 3/30 [04:23<39:29, 87.78s/it]\u001b[A\n",
            " 13%|█▎        | 4/30 [05:51<38:02, 87.78s/it]\u001b[A\n",
            " 17%|█▋        | 5/30 [07:18<36:29, 87.59s/it]\u001b[A\n",
            " 20%|██        | 6/30 [08:45<35:02, 87.59s/it]\u001b[A\n",
            " 23%|██▎       | 7/30 [10:13<33:32, 87.49s/it]\u001b[A\n",
            " 27%|██▋       | 8/30 [11:41<32:10, 87.73s/it]\u001b[A\n",
            " 30%|███       | 9/30 [13:08<30:40, 87.64s/it]\u001b[A\n",
            " 33%|███▎      | 10/30 [14:36<29:11, 87.57s/it]\u001b[A\n",
            " 37%|███▋      | 11/30 [16:03<27:41, 87.47s/it]\u001b[A\n",
            " 40%|████      | 12/30 [17:31<26:19, 87.77s/it]\u001b[A\n",
            " 43%|████▎     | 13/30 [18:59<24:51, 87.76s/it]\u001b[A\n",
            " 47%|████▋     | 14/30 [20:27<23:23, 87.72s/it]\u001b[A\n",
            " 50%|█████     | 15/30 [21:54<21:55, 87.68s/it]\u001b[A\n",
            " 53%|█████▎    | 16/30 [23:22<20:28, 87.79s/it]\u001b[A\n",
            " 57%|█████▋    | 17/30 [24:49<18:58, 87.59s/it]\u001b[A\n",
            " 60%|██████    | 18/30 [26:16<17:26, 87.23s/it]\u001b[A\n",
            " 63%|██████▎   | 19/30 [27:42<15:56, 86.97s/it]\u001b[A\n",
            " 67%|██████▋   | 20/30 [29:08<14:27, 86.76s/it]\u001b[A\n",
            " 70%|███████   | 21/30 [30:35<12:59, 86.60s/it]\u001b[A\n",
            " 73%|███████▎  | 22/30 [32:01<11:31, 86.41s/it]\u001b[A\n",
            " 77%|███████▋  | 23/30 [33:27<10:04, 86.39s/it]\u001b[A\n",
            " 80%|████████  | 24/30 [34:53<08:38, 86.35s/it]\u001b[A\n",
            " 83%|████████▎ | 25/30 [36:20<07:11, 86.35s/it]\u001b[A\n",
            " 87%|████████▋ | 26/30 [37:45<05:44, 86.19s/it]\u001b[A\n",
            " 90%|█████████ | 27/30 [39:11<04:18, 86.10s/it]\u001b[A\n",
            " 93%|█████████▎| 28/30 [40:38<02:52, 86.39s/it]\u001b[A\n",
            " 97%|█████████▋| 29/30 [42:05<01:26, 86.46s/it]\u001b[A\n",
            "100%|██████████| 30/30 [43:32<00:00, 87.09s/it]"
          ],
          "name": "stderr"
        },
        {
          "output_type": "stream",
          "text": [
            "(30, 0.4762242716854895)\n"
          ],
          "name": "stdout"
        },
        {
          "output_type": "stream",
          "text": [
            "\n"
          ],
          "name": "stderr"
        },
        {
          "output_type": "execute_result",
          "data": {
            "text/plain": [
              "[<matplotlib.lines.Line2D at 0x7f36ca79f910>]"
            ]
          },
          "metadata": {
            "tags": []
          },
          "execution_count": 52
        },
        {
          "output_type": "display_data",
          "data": {
            "image/png": "[encoded data removed]",
            "text/plain": [
              "<Figure size 432x288 with 1 Axes>"
            ]
          },
          "metadata": {
            "tags": [],
            "needs_background": "light"
          }
        }
      ]
    },
    {
      "cell_type": "markdown",
      "metadata": {
        "id": "7Kwvp04LBsmk"
      },
      "source": [
        "Как изменится качество на валидации, если:\n",
        "\n",
        "1. Используется косинусная метрика вместо евклидовой.\n",
        "2. К текстам применяется TfIdf векторизацию( sklearn.feature_extraction.text.TfidfVectorizer)\n",
        "\n",
        "Сравните модели, выберите лучшую."
      ]
    },
    {
      "cell_type": "markdown",
      "metadata": {
        "id": "8Fo2D38GBsml"
      },
      "source": [
        "Загрузим  теперь test  часть нашей выборки и преобразуем её аналогично с train частью. Не забудьте, что наборы слов в train и test части могут отличаться."
      ]
    },
    {
      "cell_type": "code",
      "metadata": {
        "id": "HB6_tXa1Bsml"
      },
      "source": [
        "newsgroups = fetch_20newsgroups(subset='test',remove=['headers','footers', 'quotes'])"
      ],
      "execution_count": 50,
      "outputs": []
    },
    {
      "cell_type": "markdown",
      "metadata": {
        "id": "qE4CIAxMBsml"
      },
      "source": [
        "Оценим точность вашей лучшей модели на test части датасета. Отличается ли оно от кросс-валидации? Попробуйте сделать выводы, почему отличается качество."
      ]
    },
    {
      "cell_type": "code",
      "metadata": {
        "colab": {
          "base_uri": "https://localhost:8080/"
        },
        "id": "2t6P2NePBsmm",
        "outputId": "363f634b-a0f8-4ead-d16d-e94d0709dc7d"
      },
      "source": [
        "test_data = newsgroups['data']\n",
        "test_target = newsgroups['target']\n",
        "vocab = vectorizer.get_feature_names()\n",
        "vectorizer = TfidfVectorizer(max_df=0.02, max_features=1000, vocabulary=vocab)\n",
        "test_X = vectorizer.fit_transform(test_data)\n",
        "test_X = test_X.toarray()\n",
        "knn = MyKNeighborsClassifier(n_neighbors=30, algorithm='brute', metric='cosine')\n",
        "knn.fit(X, target)\n",
        "accuracy_score(knn.predict(test_X), test_target)"
      ],
      "execution_count": 51,
      "outputs": [
        {
          "output_type": "execute_result",
          "data": {
            "text/plain": [
              "0.4233935209771641"
            ]
          },
          "metadata": {
            "tags": []
          },
          "execution_count": 51
        }
      ]
    },
    {
      "cell_type": "code",
      "metadata": {
        "id": "im3EO905Bsmm"
      },
      "source": [
        ""
      ],
      "execution_count": null,
      "outputs": []
    }
  ]
}